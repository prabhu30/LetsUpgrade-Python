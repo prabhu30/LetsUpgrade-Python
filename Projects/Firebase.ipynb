{
  "nbformat": 4,
  "nbformat_minor": 0,
  "metadata": {
    "colab": {
      "name": "Firebase.ipynb",
      "provenance": [],
      "collapsed_sections": []
    },
    "kernelspec": {
      "name": "python3",
      "display_name": "Python 3"
    }
  },
  "cells": [
    {
      "cell_type": "markdown",
      "metadata": {
        "id": "DUeo9sYAYTvr"
      },
      "source": [
        "* Every APP or Website requires 2 things in common : <br>\r\n",
        "&nbsp; 1. Authentication \r\n",
        "<br>\r\n",
        "&nbsp; 2. Database\r\n",
        "<br>\r\n",
        "Examples : Zomato, Uber, Big Basket, Jio\r\n",
        "<br><br>\r\n",
        "* If a developer wants to develop a database and Auth by themself, it takes time (Generally 10, 20 days)\r\n",
        "<br><br>\r\n",
        "* If we are a small scale company or a startup, we cannot afford that much time. So, we want some solution which provides Auth and DB instantly. <br>\r\n",
        "So, that system is <b>Firebase</b>"
      ]
    },
    {
      "cell_type": "code",
      "metadata": {
        "id": "UxWkWooFWwjF"
      },
      "source": [
        "# Read-Write to a real-time Database server like Firebase"
      ],
      "execution_count": 1,
      "outputs": []
    },
    {
      "cell_type": "code",
      "metadata": {
        "colab": {
          "base_uri": "https://localhost:8080/"
        },
        "id": "JFJHFm_Na6P6",
        "outputId": "85a272b3-222e-42cd-f205-5fe2bfcb195e"
      },
      "source": [
        "#STEP 1\r\n",
        "!pip install firebase"
      ],
      "execution_count": 2,
      "outputs": [
        {
          "output_type": "stream",
          "text": [
            "Collecting firebase\n",
            "  Downloading https://files.pythonhosted.org/packages/f8/33/6b2a24e349563f2d279ccc8321f26a9c0d6d2f8205adb68f3046c3ec7a89/firebase-3.0.1-py3-none-any.whl\n",
            "Requirement already satisfied: requests in /usr/local/lib/python3.6/dist-packages (from firebase) (2.23.0)\n",
            "Requirement already satisfied: urllib3!=1.25.0,!=1.25.1,<1.26,>=1.21.1 in /usr/local/lib/python3.6/dist-packages (from requests->firebase) (1.24.3)\n",
            "Requirement already satisfied: chardet<4,>=3.0.2 in /usr/local/lib/python3.6/dist-packages (from requests->firebase) (3.0.4)\n",
            "Requirement already satisfied: idna<3,>=2.5 in /usr/local/lib/python3.6/dist-packages (from requests->firebase) (2.10)\n",
            "Requirement already satisfied: certifi>=2017.4.17 in /usr/local/lib/python3.6/dist-packages (from requests->firebase) (2020.12.5)\n",
            "Installing collected packages: firebase\n",
            "Successfully installed firebase-3.0.1\n"
          ],
          "name": "stdout"
        }
      ]
    },
    {
      "cell_type": "code",
      "metadata": {
        "id": "v5BPsTrmbRoj"
      },
      "source": [
        "#STEP 2\r\n",
        "#Create a project in Firebase"
      ],
      "execution_count": 3,
      "outputs": []
    },
    {
      "cell_type": "code",
      "metadata": {
        "id": "vyJw8cq9cRmK"
      },
      "source": [
        "#STEP 3 - Import Firebase\r\n",
        "import firebase_admin"
      ],
      "execution_count": 5,
      "outputs": []
    },
    {
      "cell_type": "code",
      "metadata": {
        "id": "88XJmb0-cTW0"
      },
      "source": [
        "#STEP 4\r\n",
        "\r\n",
        "from firebase_admin import credentials\r\n",
        "from firebase_admin import firestore"
      ],
      "execution_count": 6,
      "outputs": []
    },
    {
      "cell_type": "code",
      "metadata": {
        "id": "ovRynugOdz1D"
      },
      "source": [
        "#STEP 5 - Download the credentials key from the Fireabse"
      ],
      "execution_count": 7,
      "outputs": []
    },
    {
      "cell_type": "code",
      "metadata": {
        "id": "_zkNo1ZLfJ_n"
      },
      "source": [
        "#STEP 6 - Place it in your project folder where the Firebase (ipynb) project is present"
      ],
      "execution_count": 8,
      "outputs": []
    },
    {
      "cell_type": "code",
      "metadata": {
        "id": "Bqjy_ibxhEbl"
      },
      "source": [
        "cred = credentials.Certificate(\"python-letsupgrade-3afe9-firebase-adminsdk-lbimw-9f6d2c021c.json\")\r\n",
        "firebase_admin.initialize_app(cred)"
      ],
      "execution_count": null,
      "outputs": []
    },
    {
      "cell_type": "code",
      "metadata": {
        "id": "6YtzJnfHhasl"
      },
      "source": [
        "db = firestore.client()"
      ],
      "execution_count": 12,
      "outputs": []
    },
    {
      "cell_type": "code",
      "metadata": {
        "colab": {
          "base_uri": "https://localhost:8080/"
        },
        "id": "ui9Xk5KVjnGJ",
        "outputId": "7985b201-f2d4-4dc7-9f11-2853e8c37b41"
      },
      "source": [
        "doc_ref = db.collection(u'users').document(u'abc')\r\n",
        "\r\n",
        "doc_ref.set({\r\n",
        "    u'first': u'Prabhu',\r\n",
        "    u'last': u'Kalyan',\r\n",
        "    u'born': 2001\r\n",
        "})"
      ],
      "execution_count": 16,
      "outputs": [
        {
          "output_type": "execute_result",
          "data": {
            "text/plain": [
              "update_time {\n",
              "  seconds: 1608442069\n",
              "  nanos: 609498000\n",
              "}"
            ]
          },
          "metadata": {
            "tags": []
          },
          "execution_count": 16
        }
      ]
    },
    {
      "cell_type": "code",
      "metadata": {
        "id": "M62WQuHPmaJU"
      },
      "source": [
        "def enterDataInDB(name,lastName,age):\r\n",
        "  doc_ref = db.collection(u'LetsUpgradeUsers').document()\r\n",
        "  d = {}\r\n",
        "  d[\"firstName\"] = name\r\n",
        "  d[\"lastName\"] = lastName\r\n",
        "  d[\"age\"] = age\r\n",
        "  doc_ref.set(d)"
      ],
      "execution_count": 17,
      "outputs": []
    },
    {
      "cell_type": "code",
      "metadata": {
        "id": "uGD3igJuo5Zo"
      },
      "source": [
        "enterDataInDB(\"Prakash\",\"Korivi\",49)"
      ],
      "execution_count": 18,
      "outputs": []
    },
    {
      "cell_type": "code",
      "metadata": {
        "id": "QXs3bFYXpBGD"
      },
      "source": [
        "enterDataInDB(\"Anuradha\",\"Korivi\",45)"
      ],
      "execution_count": 19,
      "outputs": []
    },
    {
      "cell_type": "code",
      "metadata": {
        "id": "JA8EFf75phiM"
      },
      "source": [
        "def enterDataByUser():\r\n",
        "  name = input(\"Enter your name : \")\r\n",
        "  lastName = input(\"Enter last name of yours (initial) : \")\r\n",
        "  age = int(input(\"Enter your age : \"))\r\n",
        "  enterDataInDB(name,lastName,age)"
      ],
      "execution_count": 22,
      "outputs": []
    },
    {
      "cell_type": "code",
      "metadata": {
        "colab": {
          "base_uri": "https://localhost:8080/"
        },
        "id": "o_F4TLDPrm5D",
        "outputId": "e690320d-59e4-47bd-a437-48d894095ad8"
      },
      "source": [
        "enterDataByUser()"
      ],
      "execution_count": 23,
      "outputs": [
        {
          "output_type": "stream",
          "text": [
            "Enter your name : Prabhu Kalyan\n",
            "Enter last name of yours (initial) : Korivi\n",
            "Enter your age : 19\n"
          ],
          "name": "stdout"
        }
      ]
    },
    {
      "cell_type": "code",
      "metadata": {
        "colab": {
          "base_uri": "https://localhost:8080/"
        },
        "id": "iKngDDBAv0Hj",
        "outputId": "d7e08119-8a05-47f6-ecde-320626ecae4c"
      },
      "source": [
        "enterDataByUser()"
      ],
      "execution_count": 34,
      "outputs": [
        {
          "output_type": "stream",
          "text": [
            "Enter your name : Prabh\n",
            "Enter last name of yours (initial) : Korivi\n",
            "Enter your age : 18\n"
          ],
          "name": "stdout"
        }
      ]
    },
    {
      "cell_type": "code",
      "metadata": {
        "colab": {
          "base_uri": "https://localhost:8080/"
        },
        "id": "GKVx6TKXrsNp",
        "outputId": "b87741b1-a8c6-4df7-ae46-7fc6bbf00594"
      },
      "source": [
        "#STEP 8 - Read data from Firebase Database (Firestore)\r\n",
        "\r\n",
        "docs = db.collection(u'LetsUpgradeUsers').stream()\r\n",
        "\r\n",
        "for doc in docs :\r\n",
        "  #print(f'{doc.id} => {doc.to_dict()}')\r\n",
        "\r\n",
        "  print(\"Doc ID - \",doc.id)\r\n",
        "  print()\r\n",
        "  print(\"First Name - \",doc.to_dict().get(\"firstName\"))\r\n",
        "  print(\"Last Name - \",doc.to_dict().get(\"lastName\"))\r\n",
        "  print(\"Age - \",doc.to_dict().get(\"age\"))\r\n",
        "  print(\"-----------------------------------\")"
      ],
      "execution_count": 31,
      "outputs": [
        {
          "output_type": "stream",
          "text": [
            "Doc ID -  EuWyaUxtNX6JKTOHTZNY\n",
            "\n",
            "First Name -  Prakash\n",
            "Last Name -  Korivi\n",
            "Age -  49\n",
            "-----------------------------------\n",
            "Doc ID -  Xw18emMzPpB89ez1T5rh\n",
            "\n",
            "First Name -  Anuradha\n",
            "Last Name -  Korivi\n",
            "Age -  45\n",
            "-----------------------------------\n",
            "Doc ID -  ttA3qxBS4FBIe4OLyLGX\n",
            "\n",
            "First Name -  Prabhu Kalyan\n",
            "Last Name -  Korivi\n",
            "Age -  19\n",
            "-----------------------------------\n"
          ],
          "name": "stdout"
        }
      ]
    },
    {
      "cell_type": "code",
      "metadata": {
        "id": "Y0p4Ut-7seL3"
      },
      "source": [
        "#STEP 9 - Update an Entry\r\n",
        "\r\n",
        "def updateDatainFirebase(uid, updatedAge):\r\n",
        "  doc_ref = db.collection(u'LetsUpgradeUsers').document(uid)\r\n",
        "\r\n",
        "  doc_ref.update({\"age\":updatedAge})"
      ],
      "execution_count": 32,
      "outputs": []
    },
    {
      "cell_type": "code",
      "metadata": {
        "id": "t1j2wCFwu4d2"
      },
      "source": [
        "updateDatainFirebase(\"Xw18emMzPpB89ez1T5rh\",46)"
      ],
      "execution_count": 33,
      "outputs": []
    },
    {
      "cell_type": "code",
      "metadata": {
        "id": "2Ky47v3Ru8ZT"
      },
      "source": [
        "# STEP 10 - Delete Data in Firebase\r\n",
        "\r\n",
        "def deleteDataInFirebase(uid):\r\n",
        "  doc_ref = db.collection(u'LetsUpgradeUsers').document(uid).delete()"
      ],
      "execution_count": 35,
      "outputs": []
    },
    {
      "cell_type": "code",
      "metadata": {
        "id": "G9yHExk2wAFD"
      },
      "source": [
        "deleteDataInFirebase(\"ttA3qxBS4FBIe4OLyLGX\")"
      ],
      "execution_count": 36,
      "outputs": []
    },
    {
      "cell_type": "code",
      "metadata": {
        "id": "9PXk7AvnwCrP"
      },
      "source": [
        "deleteDataInFirebase(\"AkBEUq73L5eIIPA3K3CK\")"
      ],
      "execution_count": 37,
      "outputs": []
    },
    {
      "cell_type": "code",
      "metadata": {
        "id": "SxTcy6rawL3G"
      },
      "source": [
        ""
      ],
      "execution_count": null,
      "outputs": []
    }
  ]
}