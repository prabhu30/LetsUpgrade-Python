{
  "nbformat": 4,
  "nbformat_minor": 0,
  "metadata": {
    "colab": {
      "name": "Day3.ipynb",
      "provenance": []
    },
    "kernelspec": {
      "display_name": "Python 3",
      "name": "python3"
    }
  },
  "cells": [
    {
      "cell_type": "code",
      "metadata": {
        "id": "Iv4mO2j6MUqx"
      },
      "source": [
        ""
      ],
      "execution_count": null,
      "outputs": []
    },
    {
      "cell_type": "markdown",
      "metadata": {
        "id": "XRyXScB5MYtN"
      },
      "source": [
        "- Comparsion Statement \n",
        "- If Elif else \n",
        "- For Loop \n",
        "- While Loop\n",
        "- While else Loop\n",
        "- Break, Cont., Pass \n",
        "- Github session for 2 min. \n",
        "\n",
        "```\n",
        "# This is formatted as code\n",
        "```\n",
        "\n",
        "\n"
      ]
    },
    {
      "cell_type": "code",
      "metadata": {
        "id": "c2KXYuPVMx4K"
      },
      "source": [
        "a = 10\n",
        "\n",
        "b = 9"
      ],
      "execution_count": null,
      "outputs": []
    },
    {
      "cell_type": "code",
      "metadata": {
        "colab": {
          "base_uri": "https://localhost:8080/"
        },
        "id": "Mf9ZObQoNhjC",
        "outputId": "0cc18fee-594c-4a9b-8671-5fa5c263dd8c"
      },
      "source": [
        "# Equal to ? \n",
        "\n",
        "# == \n",
        "\n",
        "a == b "
      ],
      "execution_count": null,
      "outputs": [
        {
          "output_type": "execute_result",
          "data": {
            "text/plain": [
              "False"
            ]
          },
          "metadata": {
            "tags": []
          },
          "execution_count": 2
        }
      ]
    },
    {
      "cell_type": "code",
      "metadata": {
        "colab": {
          "base_uri": "https://localhost:8080/"
        },
        "id": "n43LYE3MNu4I",
        "outputId": "4934a9bc-cb4e-4459-8d9f-5374f0a6f9ca"
      },
      "source": [
        "# Not Equal to ?\n",
        "\n",
        "# != \n",
        "\n",
        "a != b "
      ],
      "execution_count": null,
      "outputs": [
        {
          "output_type": "execute_result",
          "data": {
            "text/plain": [
              "True"
            ]
          },
          "metadata": {
            "tags": []
          },
          "execution_count": 3
        }
      ]
    },
    {
      "cell_type": "code",
      "metadata": {
        "colab": {
          "base_uri": "https://localhost:8080/"
        },
        "id": "I5lcpDS7OCj6",
        "outputId": "c16a943c-e34c-4c8d-fea2-18b5d9d9b061"
      },
      "source": [
        "# Greater Than \n",
        "\n",
        "# > \n",
        "\n",
        "a > b "
      ],
      "execution_count": null,
      "outputs": [
        {
          "output_type": "execute_result",
          "data": {
            "text/plain": [
              "True"
            ]
          },
          "metadata": {
            "tags": []
          },
          "execution_count": 4
        }
      ]
    },
    {
      "cell_type": "code",
      "metadata": {
        "colab": {
          "base_uri": "https://localhost:8080/"
        },
        "id": "6t1cqDXvOZyv",
        "outputId": "e6515cac-f5ba-40df-b29c-5d8513eda820"
      },
      "source": [
        "# Less Than \n",
        "\n",
        "# < \n",
        "\n",
        "a < b"
      ],
      "execution_count": null,
      "outputs": [
        {
          "output_type": "execute_result",
          "data": {
            "text/plain": [
              "False"
            ]
          },
          "metadata": {
            "tags": []
          },
          "execution_count": 5
        }
      ]
    },
    {
      "cell_type": "code",
      "metadata": {
        "colab": {
          "base_uri": "https://localhost:8080/"
        },
        "id": "86NSZypgOddj",
        "outputId": "c6d684c7-7088-4843-8f3a-bfaa5076dd34"
      },
      "source": [
        "# Greater Than Equal to ?\n",
        "\n",
        "# >= \n",
        "\n",
        "a >= b"
      ],
      "execution_count": null,
      "outputs": [
        {
          "output_type": "execute_result",
          "data": {
            "text/plain": [
              "True"
            ]
          },
          "metadata": {
            "tags": []
          },
          "execution_count": 6
        }
      ]
    },
    {
      "cell_type": "code",
      "metadata": {
        "colab": {
          "base_uri": "https://localhost:8080/"
        },
        "id": "tp11nHqmOlEw",
        "outputId": "92f1e90b-3741-46b7-fcc1-f832314b7d02"
      },
      "source": [
        "# Less than Equal to ?\n",
        "\n",
        "# <= \n",
        "\n",
        "a <= b"
      ],
      "execution_count": null,
      "outputs": [
        {
          "output_type": "execute_result",
          "data": {
            "text/plain": [
              "False"
            ]
          },
          "metadata": {
            "tags": []
          },
          "execution_count": 7
        }
      ]
    },
    {
      "cell_type": "code",
      "metadata": {
        "id": "RKh1l9jXOqFv"
      },
      "source": [
        "# logical Comperaion \n",
        "\n",
        "# Logical Comp. operator is used for clubing 2 or more comp. statements "
      ],
      "execution_count": null,
      "outputs": []
    },
    {
      "cell_type": "code",
      "metadata": {
        "id": "OBaqnagnPath"
      },
      "source": [
        "c = 7"
      ],
      "execution_count": null,
      "outputs": []
    },
    {
      "cell_type": "code",
      "metadata": {
        "colab": {
          "base_uri": "https://localhost:8080/"
        },
        "id": "Bk4ANogXPhOB",
        "outputId": "7a70a1b3-dd9e-4e11-eabe-8593602e6a7a"
      },
      "source": [
        "a, b,c "
      ],
      "execution_count": null,
      "outputs": [
        {
          "output_type": "execute_result",
          "data": {
            "text/plain": [
              "(10, 9, 7)"
            ]
          },
          "metadata": {
            "tags": []
          },
          "execution_count": 10
        }
      ]
    },
    {
      "cell_type": "code",
      "metadata": {
        "colab": {
          "base_uri": "https://localhost:8080/"
        },
        "id": "k1pxhm9KPig-",
        "outputId": "a3a4142c-eab4-4143-a9e4-7d933426e6bd"
      },
      "source": [
        "# AND\n",
        "\n",
        "a > b and a > c "
      ],
      "execution_count": null,
      "outputs": [
        {
          "output_type": "execute_result",
          "data": {
            "text/plain": [
              "True"
            ]
          },
          "metadata": {
            "tags": []
          },
          "execution_count": 11
        }
      ]
    },
    {
      "cell_type": "code",
      "metadata": {
        "colab": {
          "base_uri": "https://localhost:8080/"
        },
        "id": "oB1Xi_90PoJI",
        "outputId": "e64b39c4-1e61-448d-d3bb-dc2a69367c34"
      },
      "source": [
        "True and False"
      ],
      "execution_count": null,
      "outputs": [
        {
          "output_type": "execute_result",
          "data": {
            "text/plain": [
              "False"
            ]
          },
          "metadata": {
            "tags": []
          },
          "execution_count": 13
        }
      ]
    },
    {
      "cell_type": "code",
      "metadata": {
        "colab": {
          "base_uri": "https://localhost:8080/"
        },
        "id": "ZH1qDcZ8P5UP",
        "outputId": "98896b40-3ba5-4bd7-e1b2-9fcba7a93e47"
      },
      "source": [
        "# OR \n",
        "\n",
        "a < b and a < c "
      ],
      "execution_count": null,
      "outputs": [
        {
          "output_type": "execute_result",
          "data": {
            "text/plain": [
              "False"
            ]
          },
          "metadata": {
            "tags": []
          },
          "execution_count": 14
        }
      ]
    },
    {
      "cell_type": "code",
      "metadata": {
        "colab": {
          "base_uri": "https://localhost:8080/"
        },
        "id": "tEnR-4oIQIzE",
        "outputId": "f0db9ee9-5756-4cfa-e08f-f7d78934c2ba"
      },
      "source": [
        "# NOT \n",
        "\n",
        "not a > b "
      ],
      "execution_count": null,
      "outputs": [
        {
          "output_type": "execute_result",
          "data": {
            "text/plain": [
              "False"
            ]
          },
          "metadata": {
            "tags": []
          },
          "execution_count": 15
        }
      ]
    },
    {
      "cell_type": "code",
      "metadata": {
        "colab": {
          "base_uri": "https://localhost:8080/"
        },
        "id": "0lFSczUkQ3qF",
        "outputId": "61df8629-526d-421d-db90-b5ae09e93401"
      },
      "source": [
        "a> b"
      ],
      "execution_count": null,
      "outputs": [
        {
          "output_type": "execute_result",
          "data": {
            "text/plain": [
              "True"
            ]
          },
          "metadata": {
            "tags": []
          },
          "execution_count": 16
        }
      ]
    },
    {
      "cell_type": "markdown",
      "metadata": {
        "id": "A1QCBCpHRIKP"
      },
      "source": [
        "# IF ELSE ELIF"
      ]
    },
    {
      "cell_type": "code",
      "metadata": {
        "id": "dR6T-oGHQ6rK"
      },
      "source": [
        "# It is used for Decision Making in programmibg "
      ],
      "execution_count": null,
      "outputs": []
    },
    {
      "cell_type": "code",
      "metadata": {
        "colab": {
          "base_uri": "https://localhost:8080/"
        },
        "id": "v__lkfikR7Vv",
        "outputId": "0bc40b72-6a38-4460-c410-4f1c0ebc3548"
      },
      "source": [
        "a ,b ,c "
      ],
      "execution_count": null,
      "outputs": [
        {
          "output_type": "execute_result",
          "data": {
            "text/plain": [
              "(10, 9, 7)"
            ]
          },
          "metadata": {
            "tags": []
          },
          "execution_count": 18
        }
      ]
    },
    {
      "cell_type": "code",
      "metadata": {
        "colab": {
          "base_uri": "https://localhost:8080/"
        },
        "id": "CsttVE1ESEt8",
        "outputId": "ddf6139b-4735-4f47-f73c-7397cdd05024"
      },
      "source": [
        "if a > b :\n",
        "  print(\"A Is a Bigger Number\")"
      ],
      "execution_count": null,
      "outputs": [
        {
          "output_type": "stream",
          "text": [
            "A Is a Bigger Number\n"
          ],
          "name": "stdout"
        }
      ]
    },
    {
      "cell_type": "code",
      "metadata": {
        "id": "xrHXEwbWSJM0"
      },
      "source": [
        "a = 8 "
      ],
      "execution_count": null,
      "outputs": []
    },
    {
      "cell_type": "code",
      "metadata": {
        "colab": {
          "base_uri": "https://localhost:8080/"
        },
        "id": "9IixAYEZSQ3Q",
        "outputId": "1f788b47-225e-452c-b18f-d20b9b3bd5ec"
      },
      "source": [
        "if a > b :\n",
        "  print(\"A Is a Bigger Number\")\n",
        "else:\n",
        "  print(\"B is Bigger Number\")"
      ],
      "execution_count": null,
      "outputs": [
        {
          "output_type": "stream",
          "text": [
            "B is Bigger Number\n"
          ],
          "name": "stdout"
        }
      ]
    },
    {
      "cell_type": "code",
      "metadata": {
        "colab": {
          "base_uri": "https://localhost:8080/"
        },
        "id": "PURub8rrSS2i",
        "outputId": "7462dd55-5ce2-4e6c-f109-ee8cbbb012eb"
      },
      "source": [
        "if a > 10:\n",
        "  print(\"A is big than 10 \")\n",
        "elif a > 9:\n",
        "  print(\"A is greater than 9 \")\n",
        "else:\n",
        "  print(\"A is Not greater than b or c\")"
      ],
      "execution_count": null,
      "outputs": [
        {
          "output_type": "stream",
          "text": [
            "A is Not greater than b or c\n"
          ],
          "name": "stdout"
        }
      ]
    },
    {
      "cell_type": "code",
      "metadata": {
        "colab": {
          "base_uri": "https://localhost:8080/"
        },
        "id": "MUTzPHWJTISO",
        "outputId": "5f04ae14-9925-4d43-b499-ef347280f1ac"
      },
      "source": [
        "marks = 4 \n",
        "\n",
        "if marks > 35:\n",
        "  print(\" WOW Amazing kid\")\n",
        "elif marks > 25 and marks < 35:\n",
        "  print(\" OK Avg AVG, MOM dad will not say it anyone\")\n",
        "elif marks > 15 :\n",
        "  print(\" Just passed, go get tution classes \")\n",
        "else:\n",
        "  print(\"Sign yourself on the answer sheet and take it to Teacher, And get Beating\")\n",
        "  "
      ],
      "execution_count": null,
      "outputs": [
        {
          "output_type": "stream",
          "text": [
            "Sign yourself on the answer sheet and take it to Teacher, And get Beating\n"
          ],
          "name": "stdout"
        }
      ]
    },
    {
      "cell_type": "markdown",
      "metadata": {
        "id": "8tsUPHpoVN5Q"
      },
      "source": [
        "# LOOPS "
      ]
    },
    {
      "cell_type": "code",
      "metadata": {
        "id": "VFareoV7UXDM"
      },
      "source": [
        "# LOOPs are used for repetative work \n",
        "\n",
        "# For Loop\n",
        "\n",
        "# While Loop "
      ],
      "execution_count": null,
      "outputs": []
    },
    {
      "cell_type": "code",
      "metadata": {
        "id": "QP3w-t-1V23Z"
      },
      "source": [
        "lst = [1,2,3,4,5,6,7,8,9,10]"
      ],
      "execution_count": null,
      "outputs": []
    },
    {
      "cell_type": "code",
      "metadata": {
        "colab": {
          "base_uri": "https://localhost:8080/"
        },
        "id": "8gENHOJAWMCK",
        "outputId": "b4527e10-cd9d-4f3d-ce23-f3b456acc430"
      },
      "source": [
        "type(lst)"
      ],
      "execution_count": null,
      "outputs": [
        {
          "output_type": "execute_result",
          "data": {
            "text/plain": [
              "list"
            ]
          },
          "metadata": {
            "tags": []
          },
          "execution_count": 29
        }
      ]
    },
    {
      "cell_type": "code",
      "metadata": {
        "colab": {
          "base_uri": "https://localhost:8080/"
        },
        "id": "rRAIsQX7WPx2",
        "outputId": "94de6fc3-a7fc-4ec1-81c8-a4a40d750815"
      },
      "source": [
        "for item in lst:\n",
        "  print(item)"
      ],
      "execution_count": null,
      "outputs": [
        {
          "output_type": "stream",
          "text": [
            "1\n",
            "2\n",
            "3\n",
            "4\n",
            "5\n",
            "6\n",
            "7\n",
            "8\n",
            "9\n",
            "10\n"
          ],
          "name": "stdout"
        }
      ]
    },
    {
      "cell_type": "code",
      "metadata": {
        "colab": {
          "base_uri": "https://localhost:8080/"
        },
        "id": "9YO-UF4KWeaU",
        "outputId": "e2fd1377-79f0-452d-b744-bb7acf2b8798"
      },
      "source": [
        "for item in range(0,10):\n",
        "  print(item)\n",
        "else:\n",
        "  print(\"For LOOP IS Over\")"
      ],
      "execution_count": null,
      "outputs": [
        {
          "output_type": "stream",
          "text": [
            "0\n",
            "1\n",
            "2\n",
            "3\n",
            "4\n",
            "5\n",
            "6\n",
            "7\n",
            "8\n",
            "9\n",
            "For LOOP IS Over\n"
          ],
          "name": "stdout"
        }
      ]
    },
    {
      "cell_type": "code",
      "metadata": {
        "colab": {
          "base_uri": "https://localhost:8080/"
        },
        "id": "F_EWqNo2Xgzp",
        "outputId": "bd48c22a-febf-46e9-c010-4c9ef55b18d6"
      },
      "source": [
        "# WHILE \n",
        "i = 0\n",
        "while i<10:\n",
        "  print(i)\n",
        "  i = i + 1"
      ],
      "execution_count": null,
      "outputs": [
        {
          "output_type": "stream",
          "text": [
            "0\n",
            "1\n",
            "2\n",
            "3\n",
            "4\n",
            "5\n",
            "6\n",
            "7\n",
            "8\n",
            "9\n"
          ],
          "name": "stdout"
        }
      ]
    },
    {
      "cell_type": "code",
      "metadata": {
        "colab": {
          "base_uri": "https://localhost:8080/"
        },
        "id": "_T3hsNwLZQAH",
        "outputId": "25a6079e-1dee-491b-a26e-e791b92a58e7"
      },
      "source": [
        "notSeeing = \"y\"\n",
        "while notSeeing == 'y':\n",
        "  print('I will help my friend harsh to see my answer sheet in EXAM -- !!')\n",
        "  notSeeing = input(\"Your  Faculty not Seeing you ? - \")\n",
        "else:\n",
        "  print(\"Hey Sai Please STOP !!!\")"
      ],
      "execution_count": null,
      "outputs": [
        {
          "output_type": "stream",
          "text": [
            "I will help my friend harsh to see my answer sheet in EXAM -- !!\n",
            "Your  Faculty not Seeing you ? - y\n",
            "I will help my friend harsh to see my answer sheet in EXAM -- !!\n",
            "Your  Faculty not Seeing you ? - y\n",
            "I will help my friend harsh to see my answer sheet in EXAM -- !!\n",
            "Your  Faculty not Seeing you ? - y\n",
            "I will help my friend harsh to see my answer sheet in EXAM -- !!\n",
            "Your  Faculty not Seeing you ? - n\n",
            "Hey Sai Please STOP !!!\n"
          ],
          "name": "stdout"
        }
      ]
    },
    {
      "cell_type": "code",
      "metadata": {
        "id": "9v8a03mraPDQ"
      },
      "source": [
        "y\n",
        "y"
      ],
      "execution_count": null,
      "outputs": []
    }
  ]
}